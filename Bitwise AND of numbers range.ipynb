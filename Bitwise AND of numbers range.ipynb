{
 "cells": [
  {
   "cell_type": "markdown",
   "metadata": {},
   "source": [
    "\"\"\"\n",
    "Given a range [m, n] where 0 <= m <= n <= 2147483647, return the bitwise AND of all numbers in this range, inclusive.\n",
    "\n",
    "Example 1:\n",
    "\n",
    "Input: [5,7]\n",
    "Output: 4\n",
    "Example 2:\n",
    "\n",
    "Input: [0,1]\n",
    "Output: 0\n",
    "\"\"\""
   ]
  },
  {
   "cell_type": "markdown",
   "metadata": {},
   "source": [
    "An efficient solution is to follow following steps.\n",
    "1) Find position of Most Significant Bit (MSB) in both numbers.\n",
    "2) If positions of MSB are different, then result is 0.\n",
    "3) If positions are same. Let positions be msb_p.\n",
    "……a) We add 2msb_p to result.\n",
    "……b) We subtract 2msb_p from x and y,\n",
    "……c) Repeat steps 1, 2 and 3 for new values of x and y.\n",
    "\n",
    "Example 1 :\n",
    "x = 10, y = 20\n",
    "Result is initially 0.\n",
    "Position of MSB in x = 3\n",
    "Position of MSB in y = 4\n",
    "Since positions are different, return result.\n",
    "\n",
    "Example 2 :\n",
    "x = 17, y = 19\n",
    "Result is initially 0.\n",
    "Position of MSB in x = 4\n",
    "Position of MSB in y = 4\n",
    "Since positions are same, we compute 24.\n",
    "\n",
    "We add 24 to result. \n",
    "Result becomes 16.\n",
    "\n",
    "We subtract this value from x and y.\n",
    "New value of x  = x - 24  = 17 - 16 = 1\n",
    "New value of y  = y - 24  = 19 - 16 = 3\n",
    "\n",
    "Position of MSB in new x = 1\n",
    "Position of MSB in new y = 2\n",
    "Since positions are different, we return result.\n"
   ]
  },
  {
   "cell_type": "code",
   "execution_count": 1,
   "metadata": {},
   "outputs": [
    {
     "name": "stdout",
     "output_type": "stream",
     "text": [
      "8\n"
     ]
    }
   ],
   "source": [
    "def msbPos(n):  \n",
    "  \n",
    "    msb_p = -1\n",
    "    while (n > 0):  \n",
    "      \n",
    "        n = n >> 1\n",
    "        msb_p += 1\n",
    "      \n",
    "    return msb_p  \n",
    "  \n",
    "# Function to find Bit-wise & of  \n",
    "# all numbers from x to y.  \n",
    "def andOperator(x, y):  \n",
    "  \n",
    "    res = 0 # Initialize result  \n",
    "  \n",
    "    while (x > 0 and y > 0):  \n",
    "      \n",
    "        # Find positions of MSB in x and y  \n",
    "        msb_p1 = msbPos(x)  \n",
    "        msb_p2 = msbPos(y)  \n",
    "  \n",
    "        # If positions are not same, return  \n",
    "        if (msb_p1 != msb_p2):  \n",
    "            break\n",
    "  \n",
    "        # Add 2^msb_p1 to result  \n",
    "        msb_val = (1 << msb_p1)  \n",
    "        res = res + msb_val  \n",
    "  \n",
    "        # subtract 2^msb_p1 from x and y.  \n",
    "        x = x - msb_val  \n",
    "        y = y - msb_val  \n",
    "  \n",
    "    return res  \n",
    "      \n",
    "# Driver code  \n",
    "x, y = 10, 15\n",
    "print(andOperator(x, y))"
   ]
  },
  {
   "cell_type": "code",
   "execution_count": null,
   "metadata": {},
   "outputs": [],
   "source": []
  }
 ],
 "metadata": {
  "kernelspec": {
   "display_name": "Python 3",
   "language": "python",
   "name": "python3"
  },
  "language_info": {
   "codemirror_mode": {
    "name": "ipython",
    "version": 3
   },
   "file_extension": ".py",
   "mimetype": "text/x-python",
   "name": "python",
   "nbconvert_exporter": "python",
   "pygments_lexer": "ipython3",
   "version": "3.6.4"
  }
 },
 "nbformat": 4,
 "nbformat_minor": 2
}
