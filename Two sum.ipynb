{
 "cells": [
  {
   "cell_type": "code",
   "execution_count": 22,
   "metadata": {},
   "outputs": [
    {
     "name": "stdout",
     "output_type": "stream",
     "text": [
      "[2, 7, 11, 15]\n",
      "{0: [0, 16], 1: [1, 11], 2: [2, 7], 3: [3, 3]}\n",
      "[1, 2]\n"
     ]
    }
   ],
   "source": [
    "def cal(nums,target):\n",
    "    d = {}\n",
    "    c = 0\n",
    "    for i in range(len(nums)):\n",
    "            d[i] = [i,target - nums[i]]        #storing index and required element in a dictionary for each element of nums\n",
    "    print(nums)\n",
    "    print(d)\n",
    "    d = list(d.values())               #extracting only values of d \n",
    "    \n",
    "    for i,j in enumerate(nums):\n",
    "        if j == d[i][1]:               # if the element of nums equals the required element (ele + req.ele = target)\n",
    "            for k in range(i+1, len(nums)):       # searching for req.ele in nums and not considering the same element\n",
    "                if nums[k] == d[i][1]:\n",
    "                    c = 1\n",
    "                    req_index1 = d[i][0]\n",
    "                    req_index2 = k\n",
    "                    break\n",
    "        else:\n",
    "            if d[i][1] in nums:   # if the req.ele is present in nums\n",
    "                c = 1\n",
    "                req_index1 = d[i][0]\n",
    "                k = req_index1\n",
    "                req_index2 = nums.index(d[i][1],i)      # extract the index of req.ele after index i (including i)  \n",
    "                break\n",
    "                \n",
    "        if c == 1:\n",
    "            break\n",
    "            \n",
    "    if c == 0:\n",
    "        return [0,0]\n",
    "    else:\n",
    "        return [req_index1,req_index2]\n",
    "    \n",
    "\n",
    "nums = [2,7,11,15]\n",
    "print(cal(nums, 18))"
   ]
  },
  {
   "cell_type": "code",
   "execution_count": null,
   "metadata": {},
   "outputs": [],
   "source": [
    "\n"
   ]
  },
  {
   "cell_type": "code",
   "execution_count": null,
   "metadata": {},
   "outputs": [],
   "source": []
  },
  {
   "cell_type": "code",
   "execution_count": null,
   "metadata": {},
   "outputs": [],
   "source": []
  },
  {
   "cell_type": "code",
   "execution_count": null,
   "metadata": {},
   "outputs": [],
   "source": []
  }
 ],
 "metadata": {
  "kernelspec": {
   "display_name": "Python 3",
   "language": "python",
   "name": "python3"
  },
  "language_info": {
   "codemirror_mode": {
    "name": "ipython",
    "version": 3
   },
   "file_extension": ".py",
   "mimetype": "text/x-python",
   "name": "python",
   "nbconvert_exporter": "python",
   "pygments_lexer": "ipython3",
   "version": "3.6.4"
  }
 },
 "nbformat": 4,
 "nbformat_minor": 2
}
