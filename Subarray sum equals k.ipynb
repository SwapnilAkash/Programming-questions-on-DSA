{
 "cells": [
  {
   "cell_type": "markdown",
   "metadata": {},
   "source": [
    "Given an array of integers and an integer k, you need to find the total number of continuous subarrays whose sum equals to k.\n",
    "\n",
    "Example 1:\n",
    "Input:nums = [1,1,1], k = 2 \n",
    "Output: 2\n",
    ">Note:\n",
    "The length of the array is in range [1, 20,000].\n",
    "The range of numbers in the array is [-1000, 1000] and the range of the integer k is [-1e7, 1e7]."
   ]
  },
  {
   "cell_type": "code",
   "execution_count": 2,
   "metadata": {},
   "outputs": [
    {
     "name": "stdout",
     "output_type": "stream",
     "text": [
      "3\n"
     ]
    }
   ],
   "source": [
    "from collections import defaultdict\n",
    "class Solution:\n",
    "    def subarraySum(self, nums, k):       \n",
    "            d = defaultdict(lambda : 0)\n",
    "            currsum,c = 0,0\n",
    "            for i in range(len(nums)):\n",
    "                currsum+= nums[i]\n",
    "                \n",
    "                if currsum == k:\n",
    "                    c+= 1\n",
    "                    \n",
    "                if (currsum - k) in d:\n",
    "                    c+= d[currsum-k]\n",
    "                \n",
    "                d[currsum]+= 1\n",
    "            \n",
    "            return c\n",
    "\n",
    "print(Solution().subarraySum([-1,1,0],0))"
   ]
  },
  {
   "cell_type": "code",
   "execution_count": null,
   "metadata": {},
   "outputs": [],
   "source": []
  }
 ],
 "metadata": {
  "kernelspec": {
   "display_name": "Python 3",
   "language": "python",
   "name": "python3"
  },
  "language_info": {
   "codemirror_mode": {
    "name": "ipython",
    "version": 3
   },
   "file_extension": ".py",
   "mimetype": "text/x-python",
   "name": "python",
   "nbconvert_exporter": "python",
   "pygments_lexer": "ipython3",
   "version": "3.6.4"
  }
 },
 "nbformat": 4,
 "nbformat_minor": 2
}
