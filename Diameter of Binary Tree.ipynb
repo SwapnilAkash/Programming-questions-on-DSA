{
 "cells": [
  {
   "cell_type": "code",
   "execution_count": null,
   "metadata": {},
   "outputs": [],
   "source": [
    "\"\"\"\n",
    "Given a binary tree, you need to compute the length of the diameter of the tree. The diameter of a binary tree is the length of the longest path between any two nodes in a tree. This path may or may not pass through the root.\n",
    "\n",
    "Example:\n",
    "Given a binary tree\n",
    "          1\n",
    "         / \\\n",
    "        2   3\n",
    "       / \\     \n",
    "      4   5    \n",
    "Return 3, which is the length of the path [4,2,1,3] or [5,2,1,3].\n",
    "\n",
    "Note: The length of path between two nodes is represented by the number of edges between them.\n",
    "\"\"\""
   ]
  },
  {
   "cell_type": "code",
   "execution_count": 23,
   "metadata": {},
   "outputs": [
    {
     "name": "stdout",
     "output_type": "stream",
     "text": [
      "6\n",
      "12\n",
      "14\n"
     ]
    }
   ],
   "source": [
    "# Definition for a binary tree node.\n",
    "# class TreeNode:\n",
    "#     def __init__(self, x):\n",
    "#         self.val = x\n",
    "#         self.left = None\n",
    "#         self.right = None\n",
    "\n",
    "class Solution:\n",
    "    def __init__(self):\n",
    "        self.max_len = 0\n",
    "        \n",
    "    def height(self,node):\n",
    "        if node is None:\n",
    "            return 0\n",
    "        else:\n",
    "            return (1 + max(self.height(node.left), self.height(node.right)))\n",
    "        \n",
    "    def calc_dia(self,root):\n",
    "        if root:\n",
    "            return (self.height(root.left) + self.height(root.right))\n",
    "        else:\n",
    "            return 0\n",
    "    \n",
    "    \n",
    "    def diameterOfBinaryTree(self, root: TreeNode) -> int:\n",
    "        if root is None:\n",
    "            return 0\n",
    "        self.diameterOfBinaryTree(root.left)\n",
    "        self.max_len = max(self.max_len, self.calc_dia(root))\n",
    "        self.diameterOfBinaryTree(root.right)\n",
    "        \n",
    "        return self.max_len\n",
    "        \n",
    "       "
   ]
  },
  {
   "cell_type": "code",
   "execution_count": null,
   "metadata": {},
   "outputs": [],
   "source": [
    "class Solution(object):\n",
    "    def diameterOfBinaryTree(self, root):\n",
    "        self.ans = 1\n",
    "        def depth(node):\n",
    "            if not node: return 0\n",
    "            L = depth(node.left)\n",
    "            R = depth(node.right)\n",
    "            self.ans = max(self.ans, L+R+1)\n",
    "            return max(L, R) + 1\n",
    "\n",
    "        depth(root)\n",
    "        return self.ans - 1"
   ]
  },
  {
   "cell_type": "code",
   "execution_count": null,
   "metadata": {},
   "outputs": [],
   "source": []
  }
 ],
 "metadata": {
  "kernelspec": {
   "display_name": "Python 3",
   "language": "python",
   "name": "python3"
  },
  "language_info": {
   "codemirror_mode": {
    "name": "ipython",
    "version": 3
   },
   "file_extension": ".py",
   "mimetype": "text/x-python",
   "name": "python",
   "nbconvert_exporter": "python",
   "pygments_lexer": "ipython3",
   "version": "3.6.4"
  }
 },
 "nbformat": 4,
 "nbformat_minor": 2
}
