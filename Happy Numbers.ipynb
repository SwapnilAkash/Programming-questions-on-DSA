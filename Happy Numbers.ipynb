{
 "cells": [
  {
   "cell_type": "code",
   "execution_count": null,
   "metadata": {},
   "outputs": [],
   "source": [
    "\"\"\"\n",
    "Write an algorithm to determine if a number n is \"happy\".\n",
    "\n",
    "A happy number is a number defined by the following process: Starting with any positive integer, replace the number by the sum of the squares of its digits, and repeat the process until the number equals 1 (where it will stay), or it loops endlessly in a cycle which does not include 1. Those numbers for which this process ends in 1 are happy numbers.\n",
    "\n",
    "Return True if n is a happy number, and False if not.\n",
    "\n",
    "Example: \n",
    "\n",
    "Input: 19\n",
    "Output: true\n",
    "Explanation: \n",
    "12 + 92 = 82\n",
    "82 + 22 = 68\n",
    "62 + 82 = 100\n",
    "12 + 02 + 02 = 1\n",
    "\n",
    "Search on Geeksfor Geeks\n",
    "\"\"\""
   ]
  },
  {
   "cell_type": "code",
   "execution_count": null,
   "metadata": {},
   "outputs": [],
   "source": [
    "class Solution:\n",
    "    def __init__(self):\n",
    "        self.l = {}\n",
    "        \n",
    "    def check_exists(self,s):\n",
    "        if s not in list(self.l.keys()):\n",
    "            self.l[s] = 1\n",
    "        else:\n",
    "            return 1\n",
    "            \n",
    "    def isHappy(self, n: int) -> bool:\n",
    "        s = 0\n",
    "        num = n\n",
    "        while num != 0:\n",
    "            d = num % 10\n",
    "            s+= d ** 2\n",
    "            num//= 10\n",
    "\n",
    "        a = self.check_exists(s)\n",
    "\n",
    "        if s == 1:\n",
    "            return True\n",
    "        try:\n",
    "            if a == 1:\n",
    "                return False\n",
    "            else:\n",
    "                return self.isHappy(s)\n",
    "            \n",
    "        except:\n",
    "            return False\n",
    "        \n",
    "    "
   ]
  }
 ],
 "metadata": {
  "kernelspec": {
   "display_name": "Python 3",
   "language": "python",
   "name": "python3"
  },
  "language_info": {
   "codemirror_mode": {
    "name": "ipython",
    "version": 3
   },
   "file_extension": ".py",
   "mimetype": "text/x-python",
   "name": "python",
   "nbconvert_exporter": "python",
   "pygments_lexer": "ipython3",
   "version": "3.6.4"
  }
 },
 "nbformat": 4,
 "nbformat_minor": 2
}
