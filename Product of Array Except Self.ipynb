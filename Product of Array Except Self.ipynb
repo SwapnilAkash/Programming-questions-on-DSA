{
 "cells": [
  {
   "cell_type": "code",
   "execution_count": null,
   "metadata": {},
   "outputs": [],
   "source": [
    "\"\"\"\n",
    "Given an array nums of n integers where n > 1,  return an array output such that output[i] is equal to the product of all the elements of nums except nums[i].\n",
    "\n",
    "Example:\n",
    "\n",
    "Input:  [1,2,3,4]\n",
    "Output: [24,12,8,6]\n",
    "Constraint: It's guaranteed that the product of the elements of any prefix or suffix of the array (including the whole array) fits in a 32 bit integer.\n",
    "\n",
    "Note: Please solve it without division and in O(n).\n",
    "\n",
    "Follow up:\n",
    "Could you solve it with constant space complexity? (The output array does not count as extra space for the purpose of space complexity analysis.)\n",
    "\"\"\""
   ]
  },
  {
   "cell_type": "code",
   "execution_count": 16,
   "metadata": {},
   "outputs": [
    {
     "name": "stdout",
     "output_type": "stream",
     "text": [
      "[24, 12, 8, 6]\n",
      "Wall time: 0 ns\n"
     ]
    }
   ],
   "source": [
    "%%time\n",
    "class Solution:\n",
    "    def productExceptSelf(self, nums):\n",
    "        l = len(nums)\n",
    "        output = [0] * l\n",
    "        L = [0] * l\n",
    "        R = [0] * l\n",
    "        L[0] = 1\n",
    "        R[l-1] = 1\n",
    "        for i in range(1,l):\n",
    "            L[i] = L[i-1] * nums[i-1]\n",
    "        for i in reversed(range(l-1)):\n",
    "            R[i] = R[i+1] * nums[i+1]\n",
    "        for i in range(l):\n",
    "            output[i] = L[i] * R[i]\n",
    "        return output\n",
    "            \n",
    "print(Solution().productExceptSelf([1,2,3,4]))\n"
   ]
  },
  {
   "cell_type": "code",
   "execution_count": 17,
   "metadata": {},
   "outputs": [
    {
     "name": "stdout",
     "output_type": "stream",
     "text": [
      "[24, 12, 8, 6]\n",
      "Wall time: 0 ns\n"
     ]
    }
   ],
   "source": [
    "%%time\n",
    "#fastest\n",
    "class Solution:\n",
    "    def productExceptSelf(self, nums):\n",
    "        l = len(nums)\n",
    "        output = [0] * l\n",
    "        \n",
    "        output[0] = 1\n",
    "        for i in range(1,l):\n",
    "            output[i] = output[i-1] * nums[i-1]\n",
    "        \n",
    "        R = 1\n",
    "        for i in range(l-1,-1,-1):\n",
    "            output[i] = output[i] * R\n",
    "            R*= nums[i]\n",
    "        \n",
    "        return output\n",
    "print(Solution().productExceptSelf([1,2,3,4]))"
   ]
  },
  {
   "cell_type": "code",
   "execution_count": 13,
   "metadata": {},
   "outputs": [
    {
     "name": "stdout",
     "output_type": "stream",
     "text": [
      "[24, 12, 8, 6]\n",
      "Wall time: 0 ns\n"
     ]
    }
   ],
   "source": [
    "%%time\n",
    "class Solution:\n",
    "    def productExceptSelf(self, nums):\n",
    "        ans = [1 for _ in nums]\n",
    "        \n",
    "        left = 1\n",
    "        right = 1\n",
    "        \n",
    "        for i in range(len(nums)):\n",
    "            ans[i] *= left\n",
    "            ans[-1-i] *= right\n",
    "            left *= nums[i]\n",
    "            right *= nums[-1-i]\n",
    "        \n",
    "        return ans\n",
    "print(Solution().productExceptSelf([1,2,3,4]))"
   ]
  },
  {
   "cell_type": "code",
   "execution_count": null,
   "metadata": {},
   "outputs": [],
   "source": []
  }
 ],
 "metadata": {
  "kernelspec": {
   "display_name": "Python 3",
   "language": "python",
   "name": "python3"
  },
  "language_info": {
   "codemirror_mode": {
    "name": "ipython",
    "version": 3
   },
   "file_extension": ".py",
   "mimetype": "text/x-python",
   "name": "python",
   "nbconvert_exporter": "python",
   "pygments_lexer": "ipython3",
   "version": "3.6.4"
  }
 },
 "nbformat": 4,
 "nbformat_minor": 2
}
