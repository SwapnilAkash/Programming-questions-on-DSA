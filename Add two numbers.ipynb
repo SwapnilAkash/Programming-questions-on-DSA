{
 "cells": [
  {
   "cell_type": "code",
   "execution_count": 29,
   "metadata": {},
   "outputs": [
    {
     "name": "stdout",
     "output_type": "stream",
     "text": [
      "Inside\n",
      "\n",
      "\n"
     ]
    },
    {
     "data": {
      "text/plain": [
       "''"
      ]
     },
     "execution_count": 29,
     "metadata": {},
     "output_type": "execute_result"
    }
   ],
   "source": [
    "# Definition for singly-linked list.\n",
    "# class ListNode:\n",
    "#     def __init__(self, x):\n",
    "#         self.val = x\n",
    "#         self.next = None\n",
    "\n",
    "class Solution:\n",
    "    def addTwoNumbers(self, l1: ListNode, l2: ListNode) -> ListNode:\n",
    "        num1 = []\n",
    "        num2 = []\n",
    "        t1 = l1\n",
    "        t2 = l2\n",
    "        i = 0\n",
    "        \n",
    "        while t1 != None:\n",
    "            num1.append(t1.val)\n",
    "            t1 = t1.next \n",
    "        \n",
    "        while t2 != None:\n",
    "            num2.append(t2.val)\n",
    "            t2 = t2.next\n",
    "        \n",
    "        num1.reverse()\n",
    "        num2.reverse()\n",
    "        num1 = [str(ele) for ele in num1]\n",
    "        num2 = [str(ele) for ele in num2]\n",
    "        \n",
    "        num1 = int(\"\".join(num1))\n",
    "        num2 = int(\"\".join(num2))\n",
    "        \n",
    "        result = str(num1 + num2)\n",
    "        result = [int(ele) for ele in result]\n",
    "        result.reverse()\n",
    "        print(result)\n",
    "        \n",
    "        l3 = ListNode(result[0])\n",
    "        t3 = l3\n",
    "        for i in range(1, len(result)):\n",
    "            t3.next = ListNode(result[i])\n",
    "            t3 = t3.next\n",
    "        \n",
    "        return l3"
   ]
  },
  {
   "cell_type": "code",
   "execution_count": 32,
   "metadata": {},
   "outputs": [
    {
     "data": {
      "text/plain": [
       "['1', '2', '3']"
      ]
     },
     "execution_count": 32,
     "metadata": {},
     "output_type": "execute_result"
    }
   ],
   "source": [
    "s = str(123)\n",
    "s = [i for i in s]\n",
    "s"
   ]
  },
  {
   "cell_type": "code",
   "execution_count": null,
   "metadata": {},
   "outputs": [],
   "source": []
  }
 ],
 "metadata": {
  "kernelspec": {
   "display_name": "Python 3",
   "language": "python",
   "name": "python3"
  },
  "language_info": {
   "codemirror_mode": {
    "name": "ipython",
    "version": 3
   },
   "file_extension": ".py",
   "mimetype": "text/x-python",
   "name": "python",
   "nbconvert_exporter": "python",
   "pygments_lexer": "ipython3",
   "version": "3.6.4"
  }
 },
 "nbformat": 4,
 "nbformat_minor": 2
}
