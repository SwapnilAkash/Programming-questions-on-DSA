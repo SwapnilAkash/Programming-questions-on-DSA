{
 "cells": [
  {
   "cell_type": "code",
   "execution_count": 2,
   "metadata": {},
   "outputs": [
    {
     "data": {
      "text/plain": [
       "\"\\nGiven an integer array arr, count element x such that x + 1 is also in arr.\\n\\nIf there're duplicates in arr, count them seperately.\\n\\n \\n\\nExample 1:\\n\\nInput: arr = [1,2,3]\\nOutput: 2\\nExplanation: 1 and 2 are counted cause 2 and 3 are in arr.\\nExample 2:\\n\\nInput: arr = [1,1,3,3,5,5,7,7]\\nOutput: 0\\nExplanation: No numbers are counted, cause there's no 2, 4, 6, or 8 in arr.\\nExample 3:\\n\\nInput: arr = [1,3,2,3,5,0]\\nOutput: 3\\nExplanation: 0, 1 and 2 are counted cause 1, 2 and 3 are in arr.\\nExample 4:\\n\\nInput: arr = [1,1,2,2]\\nOutput: 2\\nExplanation: Two 1s are counted cause 2 is in arr.\\n \\n\\nConstraints:\\n\\n1 <= arr.length <= 1000\\n0 <= arr[i] <= 1000\\n\""
      ]
     },
     "execution_count": 2,
     "metadata": {},
     "output_type": "execute_result"
    }
   ],
   "source": [
    "'''\n",
    "Given an integer array arr, count element x such that x + 1 is also in arr.\n",
    "\n",
    "If there're duplicates in arr, count them seperately.\n",
    "\n",
    " \n",
    "\n",
    "Example 1:\n",
    "\n",
    "Input: arr = [1,2,3]\n",
    "Output: 2\n",
    "Explanation: 1 and 2 are counted cause 2 and 3 are in arr.\n",
    "Example 2:\n",
    "\n",
    "Input: arr = [1,1,3,3,5,5,7,7]\n",
    "Output: 0\n",
    "Explanation: No numbers are counted, cause there's no 2, 4, 6, or 8 in arr.\n",
    "Example 3:\n",
    "\n",
    "Input: arr = [1,3,2,3,5,0]\n",
    "Output: 3\n",
    "Explanation: 0, 1 and 2 are counted cause 1, 2 and 3 are in arr.\n",
    "Example 4:\n",
    "\n",
    "Input: arr = [1,1,2,2]\n",
    "Output: 2\n",
    "Explanation: Two 1s are counted cause 2 is in arr.\n",
    " \n",
    "\n",
    "Constraints:\n",
    "\n",
    "1 <= arr.length <= 1000\n",
    "0 <= arr[i] <= 1000\n",
    "'''\n"
   ]
  },
  {
   "cell_type": "code",
   "execution_count": null,
   "metadata": {},
   "outputs": [],
   "source": [
    "class Solution:\n",
    "    def countElements(self, arr: List[int]) -> int:\n",
    "        arr.sort()\n",
    "        l = len(arr)\n",
    "        c,i,j = 0,0,1\n",
    "        while i < l and j < l:\n",
    "            if arr[i] == arr[j]:\n",
    "                j+= 1\n",
    "            \n",
    "            elif arr[j] == arr[i] + 1:\n",
    "                c+= j-i \n",
    "                i = j\n",
    "                j+= 1\n",
    "            \n",
    "            else:\n",
    "                i = j\n",
    "                j= i+1\n",
    "        return c"
   ]
  }
 ],
 "metadata": {
  "kernelspec": {
   "display_name": "Python 3",
   "language": "python",
   "name": "python3"
  },
  "language_info": {
   "codemirror_mode": {
    "name": "ipython",
    "version": 3
   },
   "file_extension": ".py",
   "mimetype": "text/x-python",
   "name": "python",
   "nbconvert_exporter": "python",
   "pygments_lexer": "ipython3",
   "version": "3.6.4"
  }
 },
 "nbformat": 4,
 "nbformat_minor": 2
}
