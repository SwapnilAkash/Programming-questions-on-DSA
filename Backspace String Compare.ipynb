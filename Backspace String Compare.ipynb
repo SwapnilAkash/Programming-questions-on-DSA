{
 "cells": [
  {
   "cell_type": "code",
   "execution_count": null,
   "metadata": {},
   "outputs": [],
   "source": []
  },
  {
   "cell_type": "code",
   "execution_count": 178,
   "metadata": {},
   "outputs": [],
   "source": [
    "s = \"y#fo##f\"\n",
    "t = \"y#f#o##f\""
   ]
  },
  {
   "cell_type": "code",
   "execution_count": 179,
   "metadata": {},
   "outputs": [
    {
     "data": {
      "text/plain": [
       "True"
      ]
     },
     "execution_count": 179,
     "metadata": {},
     "output_type": "execute_result"
    }
   ],
   "source": [
    "class Solution:\n",
    "      def newString(self,S):  \n",
    "            q = []  \n",
    "\n",
    "            for i in range(0, len(S)): \n",
    "                if S[i] != '#':  \n",
    "                    q.append(S[i])  \n",
    "                elif len(q) != 0:  \n",
    "                    q.pop()  \n",
    "\n",
    "            # Build final string  \n",
    "            ans = \"\"  \n",
    "        \n",
    "            while len(q) != 0:\n",
    "                ans += q[0]  \n",
    "                q.pop(0)  \n",
    "        \n",
    "            # return final string  \n",
    "            return ans\n",
    "\n",
    "    \n",
    "      def backspaceCompare(self, S: str, T: str) -> bool:\n",
    "            return self.newString(S) == self.newString(T)\n",
    "\n",
    "a = Solution().backspaceCompare(s,t)\n",
    "a"
   ]
  },
  {
   "cell_type": "code",
   "execution_count": null,
   "metadata": {},
   "outputs": [],
   "source": []
  }
 ],
 "metadata": {
  "kernelspec": {
   "display_name": "Python 3",
   "language": "python",
   "name": "python3"
  },
  "language_info": {
   "codemirror_mode": {
    "name": "ipython",
    "version": 3
   },
   "file_extension": ".py",
   "mimetype": "text/x-python",
   "name": "python",
   "nbconvert_exporter": "python",
   "pygments_lexer": "ipython3",
   "version": "3.6.4"
  }
 },
 "nbformat": 4,
 "nbformat_minor": 2
}
