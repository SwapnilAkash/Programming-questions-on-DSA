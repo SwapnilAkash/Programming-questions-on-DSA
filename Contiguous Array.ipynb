{
 "cells": [
  {
   "cell_type": "code",
   "execution_count": null,
   "metadata": {},
   "outputs": [],
   "source": [
    "\"\"\"\n",
    "Given a binary array, find the maximum length of a contiguous subarray with equal number of 0 and 1.\n",
    "\n",
    "Example 1:\n",
    "Input: [0,1]\n",
    "Output: 2\n",
    "Explanation: [0, 1] is the longest contiguous subarray with equal number of 0 and 1.\n",
    "Example 2:\n",
    "Input: [0,1,0]\n",
    "Output: 2\n",
    "Explanation: [0, 1] (or [1, 0]) is a longest contiguous subarray with equal number of 0 and 1.\n",
    "Note: The length of the given binary array will not exceed 50,000.\n",
    "\"\"\""
   ]
  },
  {
   "cell_type": "code",
   "execution_count": 5,
   "metadata": {},
   "outputs": [
    {
     "name": "stdout",
     "output_type": "stream",
     "text": [
      "6\n"
     ]
    }
   ],
   "source": [
    "class Solution:\n",
    "    def findMaxLength(self, nums) -> int:\n",
    "        c= 0\n",
    "        l = len(nums)\n",
    "        d = {}\n",
    "        max_len = 0\n",
    "        \n",
    "        if l == 1 or l == 0:\n",
    "            return 0\n",
    "        for i in range(l):\n",
    "            if nums[i] == 0:\n",
    "                c-= 1\n",
    "            else:\n",
    "                c+= 1\n",
    "            if c == 0:\n",
    "                max_len = i + 1\n",
    "            if c in d:\n",
    "                max_len = max(max_len, i - d[c])\n",
    "            else:\n",
    "                d[c] = i\n",
    "\n",
    "        return max_len\n",
    "\n",
    "print(Solution().findMaxLength([0,1,1,0,0,1,1,1]))"
   ]
  },
  {
   "cell_type": "code",
   "execution_count": null,
   "metadata": {},
   "outputs": [],
   "source": []
  }
 ],
 "metadata": {
  "kernelspec": {
   "display_name": "Python 3",
   "language": "python",
   "name": "python3"
  },
  "language_info": {
   "codemirror_mode": {
    "name": "ipython",
    "version": 3
   },
   "file_extension": ".py",
   "mimetype": "text/x-python",
   "name": "python",
   "nbconvert_exporter": "python",
   "pygments_lexer": "ipython3",
   "version": "3.6.4"
  }
 },
 "nbformat": 4,
 "nbformat_minor": 2
}
