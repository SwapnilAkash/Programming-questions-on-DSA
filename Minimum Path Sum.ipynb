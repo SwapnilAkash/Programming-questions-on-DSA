{
 "cells": [
  {
   "cell_type": "code",
   "execution_count": null,
   "metadata": {},
   "outputs": [],
   "source": [
    "\"\"\"\n",
    "Given a m x n grid filled with non-negative numbers, find a path from top left to bottom right which minimizes the sum of all numbers along its path.\n",
    "\n",
    "Note: You can only move either down or right at any point in time.\n",
    "\n",
    "Example:\n",
    "\n",
    "Input:\n",
    "[\n",
    "  [1,3,1],\n",
    "  [1,5,1],\n",
    "  [4,2,1]\n",
    "]\n",
    "Output: 7\n",
    "Explanation: Because the path 1→3→1→1→1 minimizes the sum.\n",
    "\"\"\""
   ]
  },
  {
   "cell_type": "code",
   "execution_count": null,
   "metadata": {},
   "outputs": [],
   "source": [
    "class Solution:\n",
    "    def minPathSum(self, grid: List[List[int]]) -> int:\n",
    "        def minCost(cost, m, n): \n",
    "            tc = [[0 for x in range(n+1)] for x in range(m+1)] \n",
    "  \n",
    "            tc[0][0] = cost[0][0] \n",
    "\n",
    "            # Initialize first column of total cost(tc) array \n",
    "            for i in range(1, m+1): \n",
    "                tc[i][0] = tc[i-1][0] + cost[i][0] \n",
    "\n",
    "            # Initialize first row of tc array \n",
    "            for j in range(1, n+1): \n",
    "                tc[0][j] = tc[0][j-1] + cost[0][j] \n",
    "\n",
    "            # Construct rest of the tc array \n",
    "            for i in range(1, m+1): \n",
    "                for j in range(1, n+1): \n",
    "                    tc[i][j] = min(tc[i-1][j], tc[i][j-1]) + cost[i][j] \n",
    "\n",
    "            return tc[m][n] \n",
    "\n",
    "        return minCost(grid,len(grid)-1,len(grid[0])-1)\n",
    "                                \n",
    "                                        "
   ]
  },
  {
   "cell_type": "code",
   "execution_count": null,
   "metadata": {},
   "outputs": [],
   "source": [
    "class Solution:\n",
    "    def minPathSum(self, grid: List[List[int]]) -> int:\n",
    "        if len(grid) <= 0 or grid is None:\n",
    "            return 0\n",
    "        rows = len(grid)\n",
    "        cols = len(grid[0])\n",
    "        \n",
    "        for r in range(rows):\n",
    "            for c in range(cols):\n",
    "                if r==0 and c==0: # We just want to skip the top-left corner of the grid\n",
    "                    continue\n",
    "                if r-1<0: # Cases for elements in top row\n",
    "                    grid[r][c] = grid[r][c] + grid[r][c-1]  \n",
    "                elif c-1<0: # Cases for elements in leftmost column\n",
    "                    grid[r][c] = grid[r][c] + grid[r-1][c]  \n",
    "                else: # Normal cell\n",
    "                    grid[r][c] = grid[r][c] + min(grid[r-1][c], grid[r][c-1])               \n",
    "        \n",
    "        return grid[rows-1][cols-1] # We have got the minimum path accumaled at the bottom-right corner, just return thiss"
   ]
  }
 ],
 "metadata": {
  "kernelspec": {
   "display_name": "Python 3",
   "language": "python",
   "name": "python3"
  },
  "language_info": {
   "codemirror_mode": {
    "name": "ipython",
    "version": 3
   },
   "file_extension": ".py",
   "mimetype": "text/x-python",
   "name": "python",
   "nbconvert_exporter": "python",
   "pygments_lexer": "ipython3",
   "version": "3.6.4"
  }
 },
 "nbformat": 4,
 "nbformat_minor": 2
}
