{
 "cells": [
  {
   "cell_type": "code",
   "execution_count": null,
   "metadata": {},
   "outputs": [],
   "source": [
    "\"\"\"\n",
    "Given a 32-bit signed integer, reverse digits of an integer.\n",
    "\n",
    "Example 1:\n",
    "\n",
    "Input: 123\n",
    "Output: 321\n",
    "Example 2:\n",
    "\n",
    "Input: -123\n",
    "Output: -321\n",
    "Example 3:\n",
    "\n",
    "Input: 120\n",
    "Output: 21\n",
    "Note:\n",
    "Assume we are dealing with an environment which could only store integers within \n",
    "the 32-bit signed integer range: [−231,  231 − 1]. For the purpose of this problem, \n",
    "assume that your function returns 0 when the reversed integer overflows.\n",
    "\"\"\""
   ]
  },
  {
   "cell_type": "code",
   "execution_count": null,
   "metadata": {},
   "outputs": [],
   "source": [
    "# better\n",
    "class Solution:\n",
    "    def __init__(self):\n",
    "        self.rev = 0\n",
    "        self.c = 0\n",
    "        \n",
    "    def reverse(self, x: int) -> int:\n",
    "        if x < 0:\n",
    "            x = abs(x)\n",
    "            self.c = 1\n",
    "        if x == 0:\n",
    "            return 0\n",
    "        \n",
    "        self.rev = self.rev * 10 + (x % 10)\n",
    "        self.reverse(x//10)\n",
    "        \n",
    "        if self.c == 1:\n",
    "            if self.rev > (2 ** 31 ):\n",
    "                    return 0\n",
    "            return -(self.rev)\n",
    "        else:\n",
    "            if self.rev > (2 ** 31 - 1):\n",
    "                    return 0\n",
    "            return self.rev"
   ]
  },
  {
   "cell_type": "code",
   "execution_count": null,
   "metadata": {},
   "outputs": [],
   "source": [
    "class Solution:     \n",
    "    def reverse(self, x: int) -> int:\n",
    "        if x < 0:\n",
    "            x = int(str(x)[0] + str(x)[:0:-1])\n",
    "            return 0 if x < -(2 ** 31) else x\n",
    "        else:\n",
    "            x = int(str(x)[::-1])\n",
    "            return 0 if x > (2 ** 31 -1) else x"
   ]
  }
 ],
 "metadata": {
  "kernelspec": {
   "display_name": "Python 3",
   "language": "python",
   "name": "python3"
  },
  "language_info": {
   "codemirror_mode": {
    "name": "ipython",
    "version": 3
   },
   "file_extension": ".py",
   "mimetype": "text/x-python",
   "name": "python",
   "nbconvert_exporter": "python",
   "pygments_lexer": "ipython3",
   "version": "3.6.4"
  }
 },
 "nbformat": 4,
 "nbformat_minor": 2
}
