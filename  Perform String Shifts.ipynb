{
 "cells": [
  {
   "cell_type": "code",
   "execution_count": 1,
   "metadata": {},
   "outputs": [
    {
     "data": {
      "text/plain": [
       "'\\nYou are given a string s containing lowercase English letters, and a matrix shift, where shift[i] = [direction, amount]:\\n\\ndirection can be 0 (for left shift) or 1 (for right shift). \\namount is the amount by which string s is to be shifted.\\nA left shift by 1 means remove the first character of s and append it to the end.\\nSimilarly, a right shift by 1 means remove the last character of s and add it to the beginning.\\nReturn the final string after all operations.\\n\\n \\n\\nExample 1:\\n\\nInput: s = \"abc\", shift = [[0,1],[1,2]]\\nOutput: \"cab\"\\nExplanation: \\n[0,1] means shift to left by 1. \"abc\" -> \"bca\"\\n[1,2] means shift to right by 2. \"bca\" -> \"cab\"\\nExample 2:\\n\\nInput: s = \"abcdefg\", shift = [[1,1],[1,1],[0,2],[1,3]]\\nOutput: \"efgabcd\"\\nExplanation:  \\n[1,1] means shift to right by 1. \"abcdefg\" -> \"gabcdef\"\\n[1,1] means shift to right by 1. \"gabcdef\" -> \"fgabcde\"\\n[0,2] means shift to left by 2. \"fgabcde\" -> \"abcdefg\"\\n[1,3] means shift to right by 3. \"abcdefg\" -> \"efgabcd\"\\n \\n\\nConstraints:\\n\\n1 <= s.length <= 100\\ns only contains lower case English letters.\\n1 <= shift.length <= 100\\nshift[i].length == 2\\n0 <= shift[i][0] <= 1\\n0 <= shift[i][1] <= 100\\n\\n'"
      ]
     },
     "execution_count": 1,
     "metadata": {},
     "output_type": "execute_result"
    }
   ],
   "source": [
    "\"\"\"\n",
    "You are given a string s containing lowercase English letters, and a matrix shift, where shift[i] = [direction, amount]:\n",
    "\n",
    "direction can be 0 (for left shift) or 1 (for right shift). \n",
    "amount is the amount by which string s is to be shifted.\n",
    "A left shift by 1 means remove the first character of s and append it to the end.\n",
    "Similarly, a right shift by 1 means remove the last character of s and add it to the beginning.\n",
    "Return the final string after all operations.\n",
    "\n",
    " \n",
    "\n",
    "Example 1:\n",
    "\n",
    "Input: s = \"abc\", shift = [[0,1],[1,2]]\n",
    "Output: \"cab\"\n",
    "Explanation: \n",
    "[0,1] means shift to left by 1. \"abc\" -> \"bca\"\n",
    "[1,2] means shift to right by 2. \"bca\" -> \"cab\"\n",
    "Example 2:\n",
    "\n",
    "Input: s = \"abcdefg\", shift = [[1,1],[1,1],[0,2],[1,3]]\n",
    "Output: \"efgabcd\"\n",
    "Explanation:  \n",
    "[1,1] means shift to right by 1. \"abcdefg\" -> \"gabcdef\"\n",
    "[1,1] means shift to right by 1. \"gabcdef\" -> \"fgabcde\"\n",
    "[0,2] means shift to left by 2. \"fgabcde\" -> \"abcdefg\"\n",
    "[1,3] means shift to right by 3. \"abcdefg\" -> \"efgabcd\"\n",
    " \n",
    "\n",
    "Constraints:\n",
    "\n",
    "1 <= s.length <= 100\n",
    "s only contains lower case English letters.\n",
    "1 <= shift.length <= 100\n",
    "shift[i].length == 2\n",
    "0 <= shift[i][0] <= 1\n",
    "0 <= shift[i][1] <= 100\n",
    "\n",
    "\"\"\""
   ]
  },
  {
   "cell_type": "code",
   "execution_count": null,
   "metadata": {},
   "outputs": [],
   "source": [
    "class Solution:\n",
    "    def __init__(self):\n",
    "        self.total_lshifts = 0\n",
    "        self.total_rshifts = 0\n",
    "        self.s1 = ''\n",
    "        self.s2 = ''\n",
    "    def stringShift(self, s: str, shift: List[List[int]]) -> str:\n",
    "        l = len(s)\n",
    "        c = 0\n",
    "        for i in shift:\n",
    "            if i[0] == 0:\n",
    "                self.total_lshifts+= i[1]\n",
    "            else:\n",
    "                self.total_rshifts+= i[1]\n",
    "        \n",
    "        if self.total_lshifts >= self.total_rshifts:\n",
    "            self.total_lshifts-= self.total_rshifts\n",
    "            if self.total_lshifts >= l:\n",
    "                self.total_lshifts%= l\n",
    "            c = 1\n",
    "        else:\n",
    "            self.total_rshifts-= self.total_lshifts\n",
    "            if self.total_rshifts >= l:\n",
    "                self.total_rshifts%= l\n",
    "            c = 0\n",
    "            \n",
    "        if self.total_lshifts == 0:\n",
    "            return s\n",
    "        \n",
    "        if c == 0:\n",
    "            self.s1 = s[(l - self.total_rshifts) : ]\n",
    "            self.s2 = self.s1 + s[ : (l - self.total_rshifts)]\n",
    "            return self.s2\n",
    "        else:\n",
    "            self.s1 = s[ : self.total_lshifts]\n",
    "            self.s2 = s[ self.total_lshifts : ] + self.s1\n",
    "            return self.s2"
   ]
  },
  {
   "cell_type": "code",
   "execution_count": null,
   "metadata": {},
   "outputs": [],
   "source": [
    "'''\n",
    "Naive\n",
    "class Solution:\n",
    "    def stringShift(self, s: str, shifts: List[List[int]]) -> str:\n",
    "        shift = 0\n",
    "        for x, y in shifts:\n",
    "            if x == 1:\n",
    "                shift += y\n",
    "            else:    \n",
    "                shift -= y\n",
    "            shift %= len(s)    \n",
    "        return s[-shift:] + s[:-shift] \n",
    "Sum\n",
    "class Solution:\n",
    "    def stringShift(self, s: str, shifts: List[List[int]]) -> str:\n",
    "        shiftLeft = sum(y for x, y in shifts if x == 0)\n",
    "        shiftRight = sum(y for x, y in shifts if x == 1)\n",
    "        shift = (shiftRight - shiftLeft) % len(s)\n",
    "        return s[-shift:] + s[:-shift]\n",
    "Map\n",
    "class Solution:\n",
    "    def stringShift(self, s: str, shifts: List[List[int]]) -> str:\n",
    "        shift = sum(map(lambda x: [-x[1], x[1]][x[0]], shifts)) % len(s)\n",
    "        return s[-shift:] + s[:-shift]\n",
    "List Comprehension\n",
    "class Solution:\n",
    "    def stringShift(self, s: str, shifts: List[List[int]]) -> str:\n",
    "        shift = sum([y if x else -y for x, y in shifts]) % len(s)\n",
    "        return s[-shift:] + s[:-shift]\n",
    "'''"
   ]
  }
 ],
 "metadata": {
  "kernelspec": {
   "display_name": "Python 3",
   "language": "python",
   "name": "python3"
  },
  "language_info": {
   "codemirror_mode": {
    "name": "ipython",
    "version": 3
   },
   "file_extension": ".py",
   "mimetype": "text/x-python",
   "name": "python",
   "nbconvert_exporter": "python",
   "pygments_lexer": "ipython3",
   "version": "3.6.4"
  }
 },
 "nbformat": 4,
 "nbformat_minor": 2
}
