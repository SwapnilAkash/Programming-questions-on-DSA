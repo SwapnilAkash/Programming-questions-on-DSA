{
 "cells": [
  {
   "cell_type": "code",
   "execution_count": 1,
   "metadata": {},
   "outputs": [
    {
     "data": {
      "text/plain": [
       "\"\\nGiven an array nums, write a function to move all 0's to the end of it while maintaining the relative order of the non-zero elements.\\n\\nExample:\\n\\nInput: [0,1,0,3,12]\\nOutput: [1,3,12,0,0]\\nNote:\\n\\nYou must do this in-place without making a copy of the array.\\nMinimize the total number of operations.\\n\""
      ]
     },
     "execution_count": 1,
     "metadata": {},
     "output_type": "execute_result"
    }
   ],
   "source": [
    "\"\"\"\n",
    "Given an array nums, write a function to move all 0's to the end of it while maintaining the relative order of the non-zero elements.\n",
    "\n",
    "Example:\n",
    "\n",
    "Input: [0,1,0,3,12]\n",
    "Output: [1,3,12,0,0]\n",
    "Note:\n",
    "\n",
    "You must do this in-place without making a copy of the array.\n",
    "Minimize the total number of operations.\n",
    "\"\"\""
   ]
  },
  {
   "cell_type": "code",
   "execution_count": null,
   "metadata": {},
   "outputs": [],
   "source": [
    "class Solution:\n",
    "    def moveZeroes(self, nums: List[int]) -> None:\n",
    "        \"\"\"\n",
    "        Do not return anything, modify nums in-place instead.\n",
    "        \"\"\"\n",
    "        i,j = 0,1\n",
    "        l = len(nums)\n",
    "        \n",
    "        while j < l:\n",
    "            if nums[i] == 0 and nums[j] == 0:\n",
    "                j+= 1\n",
    "                \n",
    "            elif nums[i] == 0 and nums[j] != 0:\n",
    "                nums[i]+= nums[j]\n",
    "                nums[j] = 0\n",
    "                i+= 1\n",
    "                j+= 1\n",
    "            \n",
    "            else:\n",
    "                i+= 1\n",
    "                j+= 1"
   ]
  }
 ],
 "metadata": {
  "kernelspec": {
   "display_name": "Python 3",
   "language": "python",
   "name": "python3"
  },
  "language_info": {
   "codemirror_mode": {
    "name": "ipython",
    "version": 3
   },
   "file_extension": ".py",
   "mimetype": "text/x-python",
   "name": "python",
   "nbconvert_exporter": "python",
   "pygments_lexer": "ipython3",
   "version": "3.6.4"
  }
 },
 "nbformat": 4,
 "nbformat_minor": 2
}
