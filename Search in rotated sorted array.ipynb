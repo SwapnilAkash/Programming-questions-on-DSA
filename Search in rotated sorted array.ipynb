{
 "cells": [
  {
   "cell_type": "code",
   "execution_count": null,
   "metadata": {},
   "outputs": [],
   "source": [
    "\"\"\"\n",
    "Suppose an array sorted in ascending order is rotated at some pivot unknown to you beforehand.\n",
    "\n",
    "(i.e., [0,1,2,4,5,6,7] might become [4,5,6,7,0,1,2]).\n",
    "\n",
    "You are given a target value to search. If found in the array return its index, otherwise return -1.\n",
    "\n",
    "You may assume no duplicate exists in the array.\n",
    "\n",
    "Your algorithm's runtime complexity must be in the order of O(log n).\n",
    "\n",
    "Example 1:\n",
    "\n",
    "Input: nums = [4,5,6,7,0,1,2], target = 0\n",
    "Output: 4\n",
    "Example 2:\n",
    "\n",
    "Input: nums = [4,5,6,7,0,1,2], target = 3\n",
    "Output: -1\n",
    "\"\"\""
   ]
  },
  {
   "cell_type": "code",
   "execution_count": 3,
   "metadata": {},
   "outputs": [
    {
     "name": "stdout",
     "output_type": "stream",
     "text": [
      "4\n"
     ]
    }
   ],
   "source": [
    "class Solution:\n",
    "    def search(self, nums, target):\n",
    "        low = 0\n",
    "        high = len(nums) - 1\n",
    "        def binary_Search(a,low,high,ele):\n",
    "            if low > high:\n",
    "                return -1\n",
    "            mid = (low + high) // 2\n",
    "            if a[mid] == ele:\n",
    "                return mid\n",
    "            if a[mid] > ele:\n",
    "                return binary_Search(a, low, mid - 1, target)\n",
    "            elif a[mid] < ele:\n",
    "                return binary_Search(a, mid + 1, high, target)\n",
    "            \n",
    "        \n",
    "        if nums[low] > nums[high]:\n",
    "            while nums[low] > nums[high]:\n",
    "                high-= 1\n",
    "        if target >= nums[low] and target <= nums[high]:\n",
    "            return binary_Search(nums, 0 , high , target)\n",
    "        else:\n",
    "            return binary_Search(nums, high + 1, len(nums) - 1, target)\n",
    "\n",
    "print(Solution().search([4,5,6,7,0,1,2], 0))        "
   ]
  },
  {
   "cell_type": "code",
   "execution_count": 23,
   "metadata": {},
   "outputs": [
    {
     "name": "stdout",
     "output_type": "stream",
     "text": [
      "-1\n"
     ]
    }
   ],
   "source": [
    "class Solution:\n",
    "    def search(self, nums, target):\n",
    "        if not nums:\n",
    "            return -1\n",
    "        def binary_Search(a,low,high,ele):\n",
    "            if low > high:\n",
    "                return -1\n",
    "            mid = (low + high) // 2\n",
    "            if a[mid] == ele:\n",
    "                return mid\n",
    "            if a[low] <= target < a[mid] or (a[mid] <= a[high] and not a[mid] < target <= a[high]) :\n",
    "                return binary_Search(a, low, mid - 1, target)\n",
    "            else:\n",
    "                return binary_Search(a, mid+1, high, target)\n",
    "            \n",
    "        return binary_Search(nums, 0, len(nums) - 1, target)\n",
    "\n",
    "print(Solution().search([4,5,6,7,0,1,2], 3))        "
   ]
  },
  {
   "cell_type": "code",
   "execution_count": 10,
   "metadata": {},
   "outputs": [
    {
     "data": {
      "text/plain": [
       "-1"
      ]
     },
     "execution_count": 10,
     "metadata": {},
     "output_type": "execute_result"
    }
   ],
   "source": [
    "def search(nums, target):\n",
    "    def helper(l,r):\n",
    "        if l > r:\n",
    "            return -1\n",
    "        m = (r+l)//2\n",
    "        if nums[m] == target:\n",
    "            return m\n",
    "        # follow left half if it is sorted and target is in its range or if right half is sorted but target is not in its range\n",
    "        if nums[l] <= target < nums[m] or (nums[m] <= nums[r]  and not nums[m] < target <= nums[r]):\n",
    "            return helper(l,m-1)\n",
    "        else: \n",
    "            return helper(m+1, r)\n",
    "    return helper(0,len(nums)-1)\n",
    "search([4,5,6,7,0,1,2],3)"
   ]
  },
  {
   "cell_type": "code",
   "execution_count": null,
   "metadata": {},
   "outputs": [],
   "source": []
  },
  {
   "cell_type": "code",
   "execution_count": null,
   "metadata": {},
   "outputs": [],
   "source": []
  }
 ],
 "metadata": {
  "kernelspec": {
   "display_name": "Python 3",
   "language": "python",
   "name": "python3"
  },
  "language_info": {
   "codemirror_mode": {
    "name": "ipython",
    "version": 3
   },
   "file_extension": ".py",
   "mimetype": "text/x-python",
   "name": "python",
   "nbconvert_exporter": "python",
   "pygments_lexer": "ipython3",
   "version": "3.6.4"
  }
 },
 "nbformat": 4,
 "nbformat_minor": 2
}
